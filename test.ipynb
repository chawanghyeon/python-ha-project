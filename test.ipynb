{
 "cells": [
  {
   "cell_type": "code",
   "execution_count": 58,
   "metadata": {},
   "outputs": [
    {
     "name": "stdout",
     "output_type": "stream",
     "text": [
      "u4tOwQdDmcAHbTrAVLKAwPC4W0CcTwDAIJquvYJr2b7oYX0+8O/mwNKifsArE5XAwnF8QPgbiMDFCvPApE1gwP1z1EBg3U2+IqVWQRS1LcA8dITBB0iMP6bWK8CapKC/dE5JwAEylMFndpjB30BHwYDBz8Dct2XBaGozwUh8TsHVuJ7B3AI6wTAD5sDbXbfBjL4LwQ+jNsFZ9RPA/arJv6/cf8AiXxrBWcUzwXh9AMGsLCfBWyAHwccULj+1LLnAUsCrwa8XCMG2Bi7BQpjtwOw0o8CsKTXALoLewAJmlsDsBBa/euDYwNGP7sA7f5/Aqu2nvyvxg8ESgEjBPciRwaaEAMGeK9a/NEoZwVDXzsBokQjBtFkcwekDNsD8quq/CwaKQBdGacCC3qlAIdzGQLJjjMA0kLK/7xC1P8a3P0DRrGLAHEs/wUcofsCeLZe/88Y6wSEMk8BD9BPBYo6SwOAg2j5ci3M+F7mNv9oXcr/JEMFAfIwtQcuDiD8nmQnBoJymQIXrJsEwhYHB5hxnwWzT1MD1+97ApzDqwMPssMEfGKPBaS16wa8aecAM6HTArA86wJrJ4sBZgONAhKc1wZhKrUDVBxhBFR/twLZBQEE+kmHBFCzHQPaq9sA7QgXB+II/wXN5scBCsb7AeOWwwKHlFMGiCIDAZ+gqwaw8TkDaI56/D12wwAvxRsFhfELB2CaLvh3aAMGXBpLABEnhQPIpT8BuezjBf6xSwYBh3sDiPPe/qNaMwIb0W8BLbqhAgFO6wNVIoMCwatfAHjmEwT4Y/MC7HrnADkH3v0pENsAau1LAp3mowBb4hsB1/1vAggwVwTAMxsAhlr3A6Lp4wJRrTMEATRdAmLOSv7DwzD2pjkzBi54MwMVKbsBwPf6/lk4cQOrstMH18zHBVEjiwKbzScGLtlfBKZUEwVUubL+wK5bBrOxYwQyguz/QFsS++qpVwCDLNcH34L2/9Lkswdp9FMASvFZBGGwAQYRtvT9hPLTAI9PEwGXILMEaCTDB0B7Zv/SDjr/B3VjBiFFLv1hNMcHmTsK++k99wIgNPL50urtAGxQ2wKojbMB/fx7Ald6owMK+Cj/5vWHBDpQAQPlt+74BhhvBMCECwYq4IUDoUtTAZg6UviXEhsAoAI6/+W5EwCgJtb8z+h3B7tdOwMi/SEAVavTAjIxRwbDbWL+JJ5ZAnDt+wQyVDUEkdmvBgn6HwS+wRcHKTPfAHz+EwNlwjsAuAPy/JfgAwfP76cByF+zAjgAmwVUP2z8+3OnAsQ6lwKiNjL/y8LDAwrJMwEGvkcCn4lq+IQJbwOTY3MBOXxhAzaZBwDZXO8By5wO/0EaCQLCPsz+hFNBAZc+bwPXcAkF+oxbBHphJvgh6tz/pKL1AGs2gwDZCu7/O+xzBflPxwOPt2r9V7YPAwYZ0wM2lBMHwaWPA32LIwH+IDMFqua/AismfwPS0L8F/FYXB7TFmweY4j8HXq1fBdS0UwZRuacF2N+PATqBwv7xhwz8pA7LA85fnv5eTmsDk6gfB5YU9QE1lKME9gUHBVp0uwM0e+8D8rX8/gjChwKeWM8G6IFfBQI5rwQr6hsEUERTBnucZwbRr8MBezeLAoL/JviDodr6LFg/BP3fXQHPPrsDrwVi/h8USwGIsFsCIoK5A1gAXQPe47j7JbYrAxrEgwPxUesEQDXvAYMlbwdodbsD6s3XAaLoIQP1ZDsEQjY9BpEjywHPgccD6Eg7AVYFIwJIDEkFYDJzAqqMHwSTvmcBv9wrBktkIQQ36gMBcfYnBGhrewGTxWsCYyFvA2KIgwTV050BpVQLB/yY2wcWpTsGl6HDBNm6gwFRVNMHmhkPBcqMXwLcOBMEQp85A9+Gvv740YUAgpALAoPAzwftIR8FePXzBVOpvwUVQXcEEUwTB7gVywbAcgcHjZJLBfu73wCrjL8F077fAzV5HwXtHesEnqR3B4MwMwXrFPMELC0DB5A4av0Gl57+gAybBeHopwTqeVcHTHQvB8wy6wPKQnsANTB7BKVgqweVEQ8G2IkfBnDhfwSwVJsGaBRvBqbBOwXyzS8Hz+xDB1xk3wVjsHsFA3drArWGeP4AyVcEKdEfBC+6eQXhI7MBVfZpBjZWoQLfxYEAoYG5AX6dKv9hcAMGNJdvAyvrcP3pz8z7XaD9A5EkIwQskFUKrT0A+KPEFQYnu3UCGZopA5OKJQTgQHkFEvbA/NseYQVmJiUFAWIdBwRjfwPIHU0EEuFc/uLeBPsaLhEFDtY8//geLQXi2HUG0gLo/SJ4vvq1LIMFfdRVBtjK0wMARFUGUma/Ao6fzQGsAZ0AsyIdBGL8GvjyBFsAryMJAPlHswDQjVEGfUoJBz3iOQAWDCEHhaWVB2HzFQKDYij8Z0x/B8EvPQNbt7EDzy4lAgXbIQF5xsUCOQh5Bjz/tQFM790CmSMzAcXH/QEzcdcAEocu/53WPQPHvP0HQn4A/5t6BwB0HhsDupUjAklDsQG6DYsCoRBdBMxMoPyOIgUAw4bHAuP1TwYLOfL+9/ldBtp6NPzWu/EAwS6VAdsX6QBANMUBXPJjAj2ZmQc4LfcBIHKFAGD4cwG+NF0HKtRpAMHFcQWTgGcC2BLjA9AHVPyECN8BXo3NB03j6v8KMdcA1JKNBYZIBQQ3DrMDYkafAhipHP8Sf8L5SWL9ALuNtQapYPkGte8RBRKIHQc21+EAW9J1B2CB5P2murT8KHNtAGD3jvdPjxMARcoZAUPZ2Qd4tlj4rMGdAMqJAwGwMZ0Fw6j/AZn55v6zrIL9Jpps/egEUwRZf0r+IUCxA5vqCwCw9eUBWi7lB1J69Qek6IMEj4tQ/fDJVQIS0C0BXdpPAjG3mPt//i0HQJpC+qPG7vqYiV0AfiiVBUoXFQA+ubb9io5tA2gjVv98bI8AZ1l3B4iv9QVIfF0EXunNATGheQMefCD+2aV/A7ym/QLgciL/IA5pBnXaUQL00rkGnWCdAWkphPzD380BQyaFAGCTawK04o0B8N2TAyumewO2lEsH2Fsi/Qy0XQSCzAUGFkGRA/ACRwHoe+EDkSUs/RwC6QOa80EDUJJdAZraeQMn56z9nnpNAgOxKQKiRT0BJmGJBC5luQX4CDMHbnylB3KT1QEi1Qj/ymDlBCi4/QcbjNkAP4sjAz1t0QHh1Wj+61aBAQY84wT8na8AiHnpB4EVfQQJT+sAMaLY/noGswLhjW0FiyDNB7k5BQNtDnMBJVqDA5CvmvcRxQEGY4wNBrvMgQH9r7UCegU7A8laswJJMpkBcAM1Ae74YQQmjU0E5oDtBuynjv30XfEGHJN9AoyjMQDq7OcCyVLxAfnZcwW9aI0CUMR9BeAClwI7+mUB6Vvi/4s0nQdBZL0APSkFBck2AQMEtFEGx32lBmDMdQbedlsBiclRAxJu+QGoK3r+EYY5BbmKYQXFH1kAWVrlA7MfgPYImYsFoVv9AqkbIP8Sjyj9iLsBAd5T0Pwsi4T8oZRnAHJArQVr8vsDEZ11BipDxvkJK8cAdpZfAoKAzQQZkEkFvcrDAi4Umv/HTOEC2n1hBls3awIbyHsCw2TxBhX0FvxtPKkA2m+G/2n1SwaPCNsFcPNtAC3icQJGUJEEycItASNhAQX8x4D+osynAcvQOwUF5UEGSMNFAp1roQOhruUDwqpnA4KbTPfhw9TxhTBVBE2AGQeCMBkHCLe4+nK8hPryxqMAl95xAzEvFQJwEq0BBmTNBdCwLwQ2YHEFEvEVAXNKAQLtIOUDmAUzAcpJ8P4QAzUGPOpxBekUjQUWHMUDkbDXAJtzMv2UvFsFddy9BuAUSQCKBMUAnRwJBxY5OP8pzjEGpqRhBfLwiQtB2FL9+waVACCMpwdx90D+LNeK//HjuQKlQKEHeunpAoKVhQeUV+0BchOC/aigWQDW7hkCDQbpAMiWcP9SYU8ESweU/mkXmvzZehkDKrj5ABhcxQSTevj9FADNBwyevwB9QqkCAXR1B4XkvQXUECsFzOJJAEN9FwPkOk0GxoUtAeQQZQCGSicCIXi0/g8UuQfEpiT8GovK/ssSIQIbTAr8mL+9A6s7wQCJ1kD85paRBTQOsv2FZjEG6e7O/Ki09QIq8JUFQbppAu8xJQOTciL7IGHRAbiOmwBkK/EAxG71AvjDTwIrQ6UBM71pBQYr3QB46OUHwwt8/MhUiQeCfAEEgKNFAQE0zPl0mE0HL4JRAlUTxQKCItUCovmZBn1T+QDLBj7/gQLm/Llb7v+Lwj0AXDZFBouXCQIOBBMHwL0zAlfEEQVSBrD6kwwZBdLbYv/+iIr8uN8k/dIqkQDSMA8GGpd5APW4JQe7PxcDwGlNBUn9MwM7618D6pYxBW1qXQDdlwD8aX+Y/rUOnQEBsmEE6PJpAL26RwAQV4kFE0ipBnOd3QVlBOUAp6pnAnpW0v3JXkEEeGd/AkHg3P1rxhz/a4wxBE4XJQO+oHUF47/dA4uNJQI/zJ0G7cK6/jE4CQVHFj0CUSwFBBgguQFR5zMB8HNfA/tsaQcDx0EDZfSVBrCGyP3AXJsHCtS5AwhbQQErq9b/oSrc/0BAHQVj/cUENiNdA+kbZP6fMd0EGXMu/ndm/v8E+JEEwD3pAmP9KwM1N0kG8UZZAaVNjP1m8QsGG3uZBax2FQHm1oMBQRgi/zpblQKlDRkDPiZJA+AvOQSj4wUCgPpg/4SDLPRpxVMDg12dBWNubvbAdXz5HLLLAJCGnPRUqZsA+KZ8+kDBUPzw49EEAADZAAXfRQBzmHz7ab6xAjHIoQZ3oU0GrXvtA2QS6QdiUgsGCM05Blw4NwOQyOEHkhX5BsWzBQNDCE0EKm8xAy0zvwB+bZEA/IunADNQpQeTw2MAZPnbBnJ4jQO2BoUHU8p1BGwMuQchrQkGm72BBYNmRQc9UBkG56VxAUCfOQDM5l8Dfb1jBSu/zwG61BUF1J3xBnLz5v0PjDsGMeAQ+BRi1wI9vg0BYZxBByApQwUpckUA6gJxAmoh8wBowNsF9RqPA4LBLv6Je0cCpkhjAz2gSwSzHw8DS4O4/1WklQcQF7T51VutAfaXAQGVbX0BCvQFBCgMSQQ9aRsGFiYhA8KKVPhwmtr8SoabA0cqDQDfZ1r82ncJA+iASwdaaWsDSzOM/Df4vP+iu4EB0tlxBDA4FQZ4CrT6DU0FB7i+BwMxMEL9rNB+/7stqwCgjnD6GFHzA17uoQI8oBsGkJFg+mYmTvxj7V0B4K+VABzEXQQ6HYkF6SQHB6JjfPnB+BMB3ZXzA4gPXwPU/F8Enave/MOw8wSDgIMFxvYS/fdcgwTS9WcFu7cA/HU5MQA==\n",
      "0.25551700592041016\n"
     ]
    }
   ],
   "source": [
    "import onnxruntime as ort\n",
    "from PIL import Image\n",
    "import numpy as np\n",
    "import time\n",
    "import base64\n",
    "\n",
    "\n",
    "model = ort.InferenceSession(\"resnet.onnx\")\n",
    "\n",
    "# Recieve image from client\n",
    "image = Image.open(\"image.jpg\")\n",
    "image_width, image_height = image.size\n",
    "image_bytes = image.tobytes()\n",
    "image_base64 = base64.b64encode(image_bytes).decode('utf-8')\n",
    "\n",
    "start = time.time()\n",
    "\n",
    "image_bytes_decoded = base64.b64decode(image_base64)\n",
    "image = Image.frombytes(\"RGB\", (image_width, image_height), image_bytes_decoded)\n",
    "image = image.resize((224, 224))\n",
    "image = np.array(image, dtype=np.float32)\n",
    "image = image.transpose((2, 0, 1))\n",
    "image = np.expand_dims(image, axis=0)\n",
    "\n",
    "output_bytes = model.run(None, {'data': image})[0].tobytes()\n",
    "output_base64 = base64.b64encode(output_bytes).decode('utf-8')\n",
    "print(output_base64)\n",
    "print(time.time() - start)"
   ]
  },
  {
   "cell_type": "code",
   "execution_count": null,
   "metadata": {},
   "outputs": [],
   "source": []
  }
 ],
 "metadata": {
  "kernelspec": {
   "display_name": ".env",
   "language": "python",
   "name": "python3"
  },
  "language_info": {
   "codemirror_mode": {
    "name": "ipython",
    "version": 3
   },
   "file_extension": ".py",
   "mimetype": "text/x-python",
   "name": "python",
   "nbconvert_exporter": "python",
   "pygments_lexer": "ipython3",
   "version": "3.10.14"
  }
 },
 "nbformat": 4,
 "nbformat_minor": 2
}
